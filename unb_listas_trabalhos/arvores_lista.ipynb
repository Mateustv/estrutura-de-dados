{
 "cells": [
  {
   "cell_type": "code",
   "execution_count": 1,
   "metadata": {},
   "outputs": [],
   "source": [
    "class BinaryTree:\n",
    "    def __init__(self,rootObj):\n",
    "        self.key = rootObj\n",
    "        self.leftChild = None\n",
    "        self.rightChild = None\n",
    "\n",
    "    def insertLeft(self,newNode):\n",
    "        if self.leftChild == None:\n",
    "            self.leftChild = BinaryTree(newNode)\n",
    "        else:\n",
    "            t = BinaryTree(newNode)\n",
    "            t.leftChild = self.leftChild\n",
    "            self.leftChild = t\n",
    "\n",
    "    def insertRight(self,newNode):\n",
    "        if self.rightChild == None:\n",
    "            self.rightChild = BinaryTree(newNode)\n",
    "        else:\n",
    "            t = BinaryTree(newNode)\n",
    "            t.rightChild = self.rightChild\n",
    "            self.rightChild = t\n",
    "\n",
    "\n",
    "    def getRightChild(self):\n",
    "        return self.rightChild\n",
    "\n",
    "    def getLeftChild(self):\n",
    "        return self.leftChild\n",
    "\n",
    "    def setRootVal(self,obj):\n",
    "        self.key = obj\n",
    "\n",
    "    def getRootVal(self):\n",
    "        return self.key\n",
    "\n"
   ]
  },
  {
   "cell_type": "code",
   "execution_count": 43,
   "metadata": {},
   "outputs": [],
   "source": [
    "class ArvoreBinaria():\n",
    "  def __init__(self, dado, esq = None, dir = None):\n",
    "      self.dado = dado\n",
    "      self.esq = esq\n",
    "      self.dir = dir"
   ]
  },
  {
   "cell_type": "code",
   "execution_count": 26,
   "metadata": {},
   "outputs": [],
   "source": [
    "raiz = ArvoreBinaria(1, ArvoreBinaria(2), ArvoreBinaria(3, ArvoreBinaria(4)))"
   ]
  },
  {
   "cell_type": "code",
   "execution_count": 44,
   "metadata": {},
   "outputs": [],
   "source": [
    "def printarArvore(aPosition, aTree):\n",
    "  if aTree != None:\n",
    "      stringIfen = \"_\"\n",
    "      print(f\"{aPosition*stringIfen}{aTree.dado}\")\n",
    "      printarArvore((aPosition + 2),aTree.dir)\n",
    "      printarArvore((aPosition + 2),aTree.esq)\n",
    "\n",
    "def _Altura(aTree):\n",
    "    if aTree is None:\n",
    "        return 0\n",
    "    return 1 + max(_Altura(aTree.dir), _Altura(aTree.esq))\n",
    "\n",
    "\n",
    "def mostra_arvore_e_altura(raiz):\n",
    "  pos = 0\n",
    "  printarArvore(pos,raiz)\n",
    "  altura = _Altura(raiz)\n",
    "  print(\"\")\n",
    "  print(f\"altura: {altura-1}\")"
   ]
  },
  {
   "cell_type": "code",
   "execution_count": 20,
   "metadata": {},
   "outputs": [
    {
     "name": "stdout",
     "output_type": "stream",
     "text": [
      "1\n",
      "__3\n",
      "____5\n",
      "____4\n",
      "______6\n",
      "__2\n",
      "\n",
      "altura: 3\n"
     ]
    }
   ],
   "source": [
    "mostra_arvore_e_altura(raiz)"
   ]
  },
  {
   "cell_type": "code",
   "execution_count": 39,
   "metadata": {},
   "outputs": [
    {
     "name": "stdout",
     "output_type": "stream",
     "text": [
      "(1(2()())(3(4()())()))"
     ]
    }
   ],
   "source": [
    "def Arvore(aTree):\n",
    "  print(\"(\",end=\"\")\n",
    "  if aTree != None:\n",
    "      print(f\"{aTree.dado}\", end=\"\")\n",
    "      Arvore(aTree.esq)\n",
    "      print(\")\",end=\"\")\n",
    "      Arvore(aTree.dir)\n",
    "      print(\")\",end=\"\")\n",
    "  \n",
    "\n",
    "def mostra(raiz):\n",
    "  Arvore(raiz)\n",
    "  print(\")\", end=\"\")\n",
    "printarArvore(raiz)"
   ]
  },
  {
   "cell_type": "code",
   "execution_count": 48,
   "metadata": {},
   "outputs": [],
   "source": [
    "def insere(raiz, nodo):\n",
    "    if raiz is None:\n",
    "        raiz = nodo\n",
    "    elif raiz.dado < nodo.dado:\n",
    "        if raiz.dir is None:\n",
    "            raiz.dir = nodo\n",
    "        else:\n",
    "            insere(raiz.dir, nodo)\n",
    "    else:\n",
    "        if raiz.esq is None:\n",
    "            raiz.esq = nodo\n",
    "        else:\n",
    "            insere(raiz.esq, nodo)"
   ]
  },
  {
   "cell_type": "code",
   "execution_count": 51,
   "metadata": {},
   "outputs": [
    {
     "name": "stdout",
     "output_type": "stream",
     "text": [
      "3\n"
     ]
    }
   ],
   "source": [
    "index =  int(input())\n",
    "items = list(int(i) for i in input().split())\n",
    "\n",
    "def _Altura(aTree):\n",
    "    if aTree is None:\n",
    "        return 0\n",
    "    return 1 + max(_Altura(aTree.dir), _Altura(aTree.esq))\n",
    "\n",
    "if index > 1 :\n",
    "  raiz = ArvoreBinaria(items.pop(0))\n",
    "  for chave in items:\n",
    "    nodo = ArvoreBinaria(chave)\n",
    "    insere(raiz, nodo)\n",
    "  altura = _Altura(raiz)\n",
    "  print(altura - 1)\n",
    "else:\n",
    "  print(\"0\")\n"
   ]
  }
 ],
 "metadata": {
  "kernelspec": {
   "display_name": "Python 3.10.5 64-bit",
   "language": "python",
   "name": "python3"
  },
  "language_info": {
   "codemirror_mode": {
    "name": "ipython",
    "version": 3
   },
   "file_extension": ".py",
   "mimetype": "text/x-python",
   "name": "python",
   "nbconvert_exporter": "python",
   "pygments_lexer": "ipython3",
   "version": "3.10.5"
  },
  "orig_nbformat": 4,
  "vscode": {
   "interpreter": {
    "hash": "32b6365f16a9560d1f64eaf7f0cd3e0262cb733df60217a199a198ac26346325"
   }
  }
 },
 "nbformat": 4,
 "nbformat_minor": 2
}
