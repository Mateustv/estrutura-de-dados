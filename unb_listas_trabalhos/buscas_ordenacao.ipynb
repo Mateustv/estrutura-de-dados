{
 "cells": [
  {
   "cell_type": "markdown",
   "metadata": {},
   "source": [
    "Busca sequencial - nao ordenado"
   ]
  },
  {
   "cell_type": "code",
   "execution_count": null,
   "metadata": {},
   "outputs": [],
   "source": [
    "def busca_sequencia(aLista, aItem):\n",
    "  found = False\n",
    "  pos = 0\n",
    "  while pos > len(aLista) and not found:\n",
    "    if aLista[pos] == aItem:\n",
    "      found = True\n",
    "    else:\n",
    "      pos += 1\n",
    "  return found"
   ]
  },
  {
   "cell_type": "markdown",
   "metadata": {},
   "source": [
    "Busca sequencia - ordenado"
   ]
  },
  {
   "cell_type": "code",
   "execution_count": null,
   "metadata": {},
   "outputs": [],
   "source": [
    "def busca_sequencial(aList, aItem):\n",
    "  found =  False\n",
    "  pos = 0\n",
    "  stop = False\n",
    "  while pos > len(aList) and not found:\n",
    "    if aList[pos] == aItem:\n",
    "      found = True\n",
    "    else:\n",
    "      if aList[pos] > aItem:\n",
    "        stop = True\n",
    "      else:\n",
    "        pos += 1\n",
    "  return found"
   ]
  },
  {
   "cell_type": "markdown",
   "metadata": {},
   "source": [
    "Busca Binaria"
   ]
  },
  {
   "cell_type": "code",
   "execution_count": null,
   "metadata": {},
   "outputs": [],
   "source": [
    "def busca_binaria(aList, aItem):\n",
    "  if len(aList) == 0:\n",
    "    return False\n",
    "  else:\n",
    "    midpoint = len(aList)// 2\n",
    "    if aList[midpoint] == aItem:\n",
    "      return True\n",
    "    else:\n",
    "      if aItem < aList[midpoint] :\n",
    "        return busca_binaria(aList[:midpoint], aItem)\n",
    "      else:\n",
    "        return busca_binaria(aList[midpoint + 1:, aItem])"
   ]
  },
  {
   "cell_type": "markdown",
   "metadata": {},
   "source": [
    "Ordenacao - BubbleSort"
   ]
  },
  {
   "cell_type": "code",
   "execution_count": null,
   "metadata": {},
   "outputs": [],
   "source": [
    "def bubble_sort(aList):\n",
    "  exChange = True \n",
    "  pos = len(aList) - 1\n",
    "  while pos > 0 and exChange:\n",
    "    exChange = False\n",
    "    for i in range(pos):\n",
    "      if aList[i] > aList[i + 1]:\n",
    "        exChange = True\n",
    "        aList[i+1],aList[i] = aList[i], aList[i+1]\n",
    "    pos -= 1"
   ]
  },
  {
   "cell_type": "markdown",
   "metadata": {},
   "source": [
    "Ordenacao - Por selacao"
   ]
  },
  {
   "cell_type": "code",
   "execution_count": null,
   "metadata": {},
   "outputs": [],
   "source": [
    "def select_sort(aList):\n",
    "  for fillslot in range(len(aList)-1, 0, -1):\n",
    "    positionOnMax = 0\n",
    "    for i in range(1,fillslot +1):\n",
    "      if aList[i] > aList[positionOnMax]:\n",
    "        positionOnMax = i\n",
    "    aList[fillslot], aList[positionOnMax] = aList[positionOnMax], aList[fillslot]\n",
    "\n",
    "a = [55, 3 , 2, 10]\n",
    "select_sort(a)\n",
    "print(a)\n"
   ]
  },
  {
   "cell_type": "markdown",
   "metadata": {},
   "source": [
    "Ordenacao por insercao (n^2)"
   ]
  },
  {
   "cell_type": "code",
   "execution_count": null,
   "metadata": {},
   "outputs": [],
   "source": [
    "def insert_sort(aList):\n",
    "  for i in range(1, len(aList)):\n",
    "    currentValue = aList[i]\n",
    "    pos = i \n",
    "\n",
    "    while pos > 0 and aList[i-1] > currentValue:\n",
    "      aList[pos] = aList[i-1]\n",
    "      pos -= 1\n",
    "    \n",
    "    aList[pos] = currentValue"
   ]
  },
  {
   "cell_type": "markdown",
   "metadata": {},
   "source": [
    "MargeSort - ordenaçao"
   ]
  },
  {
   "cell_type": "code",
   "execution_count": 110,
   "metadata": {},
   "outputs": [],
   "source": [
    "def mergeSort(alist):\n",
    "    if len(alist)>1:\n",
    "        mid = len(alist)//2\n",
    "        lefthalf = alist[:mid]\n",
    "        righthalf = alist[mid:]\n",
    "\n",
    "        mergeSort(lefthalf)\n",
    "        mergeSort(righthalf)\n",
    "\n",
    "        i=0\n",
    "        j=0\n",
    "        k=0\n",
    "        while i < len(lefthalf) and j < len(righthalf):\n",
    "            if lefthalf[i] < righthalf[j]:\n",
    "                alist[k]=lefthalf[i]\n",
    "                i=i+1\n",
    "            else:\n",
    "                alist[k]=righthalf[j]\n",
    "                j=j+1\n",
    "            k=k+1\n",
    "\n",
    "        while i < len(lefthalf):\n",
    "            alist[k]=lefthalf[i]\n",
    "            i=i+1\n",
    "            k=k+1\n",
    "\n",
    "        while j < len(righthalf):\n",
    "            alist[k]=righthalf[j]\n",
    "            j=j+1\n",
    "            k=k+1"
   ]
  },
  {
   "cell_type": "markdown",
   "metadata": {},
   "source": [
    "QuickSort - ordenacao"
   ]
  },
  {
   "cell_type": "code",
   "execution_count": null,
   "metadata": {},
   "outputs": [],
   "source": [
    "def quickSort(alist):\n",
    "   quickSortHelper(alist,0,len(alist)-1)\n",
    "\n",
    "def quickSortHelper(alist,first,last):\n",
    "   if first<last:\n",
    "\n",
    "       splitpoint = partition(alist,first,last)\n",
    "\n",
    "       quickSortHelper(alist,first,splitpoint-1)\n",
    "       quickSortHelper(alist,splitpoint+1,last)\n",
    "\n",
    "\n",
    "def partition(alist,first,last):\n",
    "   pivotvalue = alist[first]\n",
    "\n",
    "   leftmark = first+1\n",
    "   rightmark = last\n",
    "\n",
    "   done = False\n",
    "   while not done:\n",
    "\n",
    "       while leftmark <= rightmark and alist[leftmark] <= pivotvalue:\n",
    "           leftmark = leftmark + 1\n",
    "\n",
    "       while alist[rightmark] >= pivotvalue and rightmark >= leftmark:\n",
    "           rightmark = rightmark -1\n",
    "\n",
    "       if rightmark < leftmark:\n",
    "           done = True\n",
    "       else:\n",
    "           temp = alist[leftmark]\n",
    "           alist[leftmark] = alist[rightmark]\n",
    "           alist[rightmark] = temp\n",
    "\n",
    "   temp = alist[first]\n",
    "   alist[first] = alist[rightmark]\n",
    "   alist[rightmark] = temp\n",
    "\n",
    "\n",
    "   return rightmark"
   ]
  },
  {
   "cell_type": "markdown",
   "metadata": {},
   "source": [
    "Lista"
   ]
  },
  {
   "cell_type": "markdown",
   "metadata": {},
   "source": [
    "01"
   ]
  },
  {
   "cell_type": "code",
   "execution_count": 17,
   "metadata": {},
   "outputs": [
    {
     "name": "stdout",
     "output_type": "stream",
     "text": [
      "2.00\n",
      "5.00\n",
      "10.00\n"
     ]
    }
   ],
   "source": [
    "index = int(input())\n",
    "lista = []\n",
    "for i in range(index):\n",
    "  a = input()\n",
    "  lista.append(float(a))\n",
    "mergeSort(lista)\n",
    "for x in reversed(lista):\n",
    "  print(f\"{x:.2f}\")"
   ]
  },
  {
   "cell_type": "markdown",
   "metadata": {},
   "source": [
    "02"
   ]
  },
  {
   "cell_type": "code",
   "execution_count": null,
   "metadata": {},
   "outputs": [],
   "source": [
    "index = int(input())\n",
    "lista = []\n",
    "for i in range(index):\n",
    "  a = input()\n",
    "  lista.append(float(a))\n",
    "mergeSort(lista)\n",
    "\n",
    "print(f\"{lista[0]:.2f}\")\n",
    "print(f\"{lista[len(lista)//2]:.2f}\")\n",
    "print(f\"{lista[len(lista)-1]:.2f}\")"
   ]
  },
  {
   "cell_type": "markdown",
   "metadata": {},
   "source": [
    "03"
   ]
  },
  {
   "cell_type": "code",
   "execution_count": 98,
   "metadata": {},
   "outputs": [
    {
     "name": "stdout",
     "output_type": "stream",
     "text": [
      "1. Blundel (02:59:996)\n",
      "2. Salo (02:59:996)\n",
      "3. Nakagima (02:59:997)\n",
      "4. Sato (02:59:997)\n"
     ]
    }
   ],
   "source": [
    "def convert(seconds):\n",
    "    seconds = seconds % (24 * 3600) \n",
    "    hour = seconds // 3600\n",
    "    seconds %= 3600\n",
    "    minutes = seconds // 60\n",
    "    seconds %= 60\n",
    "    mili = (float(seconds) * 1000) % 1000\n",
    "    return \"%02d:%02d:%02d\" % (minutes, seconds,round(mili)) \n",
    "\n",
    "total = []\n",
    "lista = []\n",
    "index = int(input())\n",
    "totalTemp = 0\n",
    "for i in range(index):\n",
    "  nome = input(\"Nome: \")\n",
    "  temp1, temp2, temp3 = [float(x) for x in input(\"Enter three values: \").split()]\n",
    "  totalTemp = (temp1 + temp2 + temp3)\n",
    "  lista.append(totalTemp)\n",
    "  lista.append(nome)\n",
    "  total.append(lista)\n",
    "  lista = []\n",
    "\n",
    "mergeSort(total)\n",
    "\n",
    "for x in range(1,len(total)+1):\n",
    "  print(f\"{x}. {total[x-1][1]} ({convert(total[x-1][0])})\")\n",
    "\n"
   ]
  },
  {
   "cell_type": "markdown",
   "metadata": {},
   "source": [
    "04"
   ]
  },
  {
   "cell_type": "code",
   "execution_count": 108,
   "metadata": {},
   "outputs": [
    {
     "name": "stdout",
     "output_type": "stream",
     "text": [
      "[['Automatico', '0x0', '0x0', '0x0', '0x0', '0x0', '0x0', '0x0', '0x0', '0x0', '0x0', '0x0', '0x0', '0x0', '0x0', '0x0', '0x0', '0x0', '0x0', '0x0'], ['Corontiba', '0x0', '0x0', '0x0', '0x0', '1x0', '0x0', '0x0', '0x0', '0x0', '0x0', '0x0', '0x0', '0x0', '0x0', '0x0', '0x0', '0x0', '0x0', '0x0']]\n"
     ]
    }
   ],
   "source": [
    "array_jogos = []\n",
    "tabela = {}\n",
    "for x in range(2):\n",
    "  times_jogo = list(str(i) for i in input().split())\n",
    "  array_jogos.append(times_jogo)\n",
    "for jogos in array_jogos:\n",
    "  pontos = 0\n",
    "  saldo_de_gols = 0\n",
    "  vitorias = 0\n",
    "  derrotas = 0\n",
    "  \n",
    "  for resultado in jogos[1:]:\n",
    "    if resultado[0] == resultado[2]:\n",
    "      pontos += 1\n",
    "      saldo_de_gols += 1\n",
    "    elif resultado[0] > resultado[2]:\n",
    "      pontos += 3\n",
    "      vitorias += 1\n",
    "    else:\n",
    "      derrotas +=1\n",
    "  tabela[jogos[0]] = [pontos, vitorias, empates, derrotas]\n",
    "    \n",
    "print(array_jogos)"
   ]
  },
  {
   "cell_type": "code",
   "execution_count": 113,
   "metadata": {},
   "outputs": [
    {
     "name": "stdout",
     "output_type": "stream",
     "text": [
      "[5, 3, 3, 1]\n",
      "[5, 4, 3, 1]\n",
      "[20, 4, 3, 1]\n"
     ]
    }
   ],
   "source": [
    "a = [[5,3,2,1],[20,4,3,1],[5,4,3,1],[5,3,3,1]]\n",
    "mergeSort(a)\n",
    "for x in (a[1:]):\n",
    "  print(x)"
   ]
  }
 ],
 "metadata": {
  "kernelspec": {
   "display_name": "Python 3.10.5 64-bit",
   "language": "python",
   "name": "python3"
  },
  "language_info": {
   "codemirror_mode": {
    "name": "ipython",
    "version": 3
   },
   "file_extension": ".py",
   "mimetype": "text/x-python",
   "name": "python",
   "nbconvert_exporter": "python",
   "pygments_lexer": "ipython3",
   "version": "3.10.5"
  },
  "orig_nbformat": 4,
  "vscode": {
   "interpreter": {
    "hash": "32b6365f16a9560d1f64eaf7f0cd3e0262cb733df60217a199a198ac26346325"
   }
  }
 },
 "nbformat": 4,
 "nbformat_minor": 2
}
