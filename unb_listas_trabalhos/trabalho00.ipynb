{
 "cells": [
  {
   "cell_type": "code",
   "execution_count": 45,
   "metadata": {},
   "outputs": [],
   "source": [
    "class Row:\n",
    "    def __init__(self):\n",
    "        self.items = []\n",
    "    \n",
    "    def isEmpty(self):\n",
    "        return self.items == []\n",
    "\n",
    "    def push(self, item):\n",
    "        self.items.append(item)\n",
    "\n",
    "    def pop(self):\n",
    "        if self.items:\n",
    "            return self.items.pop(0)\n",
    "\n",
    "    def peek(self):\n",
    "        if self.items:\n",
    "            return self.items[len(self.items) - 1]\n",
    "\n",
    "    def size(self):\n",
    "        return len(self.items)"
   ]
  },
  {
   "cell_type": "code",
   "execution_count": 46,
   "metadata": {},
   "outputs": [],
   "source": [
    "class RowP:\n",
    "    def __init__(self):\n",
    "        self.items = []\n",
    "    \n",
    "    def isEmpty(self):\n",
    "        return self.items == []\n",
    "\n",
    "    def push(self, item):\n",
    "        self.items.append(item)\n",
    "        self.items.sort()\n",
    "\n",
    "    def pop(self):\n",
    "        if self.items:\n",
    "            return self.items.pop(0)\n",
    "\n",
    "    def peek(self):\n",
    "        if self.items:\n",
    "            return self.items[len(self.items) - 1]\n",
    "\n",
    "    def size(self):\n",
    "        return len(self.items)"
   ]
  },
  {
   "cell_type": "code",
   "execution_count": 47,
   "metadata": {},
   "outputs": [],
   "source": [
    "class Deque:\n",
    "    def __init__(self):\n",
    "        self.items = []\n",
    "\n",
    "    def isEmpty(self):\n",
    "        return self.items == []\n",
    "\n",
    "    def addFront(self, item):\n",
    "        self.items.append(item)\n",
    "\n",
    "    def addRear(self, item):\n",
    "        self.items.insert(0,item)\n",
    "\n",
    "    def removeFront(self):\n",
    "        return self.items.pop()\n",
    "\n",
    "    def removeRear(self):\n",
    "        return self.items.pop(0)\n",
    "\n",
    "    def size(self):\n",
    "        return len(self.items)"
   ]
  },
  {
   "cell_type": "code",
   "execution_count": 48,
   "metadata": {},
   "outputs": [],
   "source": [
    "import re"
   ]
  },
  {
   "cell_type": "markdown",
   "metadata": {},
   "source": [
    "enqueue 1\n",
    "5 dekey 10 5 4 3 2 1\n",
    "enqueue 1\n",
    "3 dekey 1 6 7 8 9\n",
    "go\n",
    "enqueue 1\n",
    "1 scramble (Um(Dois)Tres\n",
    "go\n",
    "go\n",
    "go\n",
    "stop"
   ]
  },
  {
   "cell_type": "code",
   "execution_count": 71,
   "metadata": {},
   "outputs": [],
   "source": [
    "fila_de_exec = Row()\n",
    "while True:\n",
    "  instrucoes = list(str(i) for i in input().split())\n",
    "  fila_de_exec.push(instrucoes)\n",
    "  if instrucoes[0] == 'stop':\n",
    "    fila_de_exec.push(instrucoes)\n",
    "    break"
   ]
  },
  {
   "cell_type": "code",
   "execution_count": 64,
   "metadata": {},
   "outputs": [],
   "source": [
    "def dekey(valor):\n",
    "  deque = Deque()\n",
    "  c = \"\"\n",
    "  interacoe = int(valor.pop(0))\n",
    "  for n in valor:\n",
    "    deque.addRear(int(n))\n",
    "  for x in range(interacoe):\n",
    "    a = deque.removeFront()\n",
    "    b = deque.removeFront()\n",
    "    if a > b:\n",
    "      deque.addFront(a)\n",
    "      deque.addRear(b)\n",
    "    else:\n",
    "      deque.addFront(b)\n",
    "      deque.addRear(a)\n",
    "  while not deque.isEmpty():\n",
    "      b = str(deque.removeFront())\n",
    "      c += b\n",
    "  return c\n",
    "  "
   ]
  },
  {
   "cell_type": "code",
   "execution_count": 65,
   "metadata": {},
   "outputs": [],
   "source": [
    "def scramble(valor):\n",
    "  final = re.findall(r\"(\\()([a-zA-z0-9]+)\",valor[0])\n",
    "  toda = re.findall(r'([a-zA-z0-9à-ú]+)',valor[0])\n",
    "  res = [ ele for ele in toda]\n",
    "  listafinal = []\n",
    "  texto = \"\"\n",
    "\n",
    "  for x in reversed(final):\n",
    "    listafinal.append(x[0])\n",
    "    listafinal.append(x[1])\n",
    "    b = x[1]\n",
    "    texto += b\n",
    "\n",
    "  for x in listafinal:\n",
    "    if x in toda:\n",
    "      res.remove(x)\n",
    "  for z in res:\n",
    "    texto += z\n",
    "\n",
    "  print(texto)"
   ]
  },
  {
   "cell_type": "code",
   "execution_count": 72,
   "metadata": {},
   "outputs": [
    {
     "name": "stdout",
     "output_type": "stream",
     "text": [
      "0 processo(s) órfão(s).\n"
     ]
    }
   ],
   "source": [
    "enqueue = RowP()\n",
    "a = 0\n",
    "b = fila_de_exec.pop()\n",
    "while b[0] != \"stop\":\n",
    "  if b[0] == 'enqueue':\n",
    "    num = int(b[1])\n",
    "    while num > 0:\n",
    "      soma_fila = fila_de_exec.pop()\n",
    "      if soma_fila[0] == 'enqueue':\n",
    "        num += int(soma_fila[1])\n",
    "        for i in range(int(soma_fila[1])):\n",
    "          enqueue.push(fila_de_exec.pop())\n",
    "          num -= 1\n",
    "      elif soma_fila[0] == 'go':\n",
    "        funcao_executar = enqueue.pop()\n",
    "        if funcao_executar:\n",
    "          if funcao_executar[1] == 'dekey':\n",
    "            valor_dekey = dekey(funcao_executar[2:])\n",
    "            print(valor_dekey)\n",
    "          else:\n",
    "            valor_scramble = scramble(funcao_executar[2:])\n",
    "      else:\n",
    "        enqueue.push(soma_fila)\n",
    "        num -= 1\n",
    "  else:\n",
    "    funcao_executar = enqueue.pop()\n",
    "    if funcao_executar:\n",
    "      if funcao_executar[1] == 'dekey':\n",
    "        valor_dekey = dekey(funcao_executar[2:])\n",
    "        print(valor_dekey)\n",
    "      else:\n",
    "        if len(funcao_executar) > 2:\n",
    "         valor_scramble = scramble(funcao_executar[2:])\n",
    "        else:\n",
    "          a += 1 \n",
    "  b = fila_de_exec.pop()\n",
    "if a == 0:\n",
    "  print(f\"{enqueue.size()} processo(s) órfão(s).\")\n"
   ]
  }
 ],
 "metadata": {
  "kernelspec": {
   "display_name": "Python 3.10.5 64-bit",
   "language": "python",
   "name": "python3"
  },
  "language_info": {
   "codemirror_mode": {
    "name": "ipython",
    "version": 3
   },
   "file_extension": ".py",
   "mimetype": "text/x-python",
   "name": "python",
   "nbconvert_exporter": "python",
   "pygments_lexer": "ipython3",
   "version": "3.10.5"
  },
  "orig_nbformat": 4,
  "vscode": {
   "interpreter": {
    "hash": "32b6365f16a9560d1f64eaf7f0cd3e0262cb733df60217a199a198ac26346325"
   }
  }
 },
 "nbformat": 4,
 "nbformat_minor": 2
}
