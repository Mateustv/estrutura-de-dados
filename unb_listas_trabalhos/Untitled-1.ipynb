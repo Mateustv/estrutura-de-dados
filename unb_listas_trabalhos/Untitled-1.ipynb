{
 "cells": [
  {
   "cell_type": "markdown",
   "metadata": {},
   "source": [
    "fila"
   ]
  },
  {
   "cell_type": "code",
   "execution_count": 61,
   "metadata": {},
   "outputs": [],
   "source": [
    "class Row:\n",
    "    def __init__(self):\n",
    "        self.items = []\n",
    "    \n",
    "    def isEmpty(self):\n",
    "        return self.items == []\n",
    "\n",
    "    def push(self, item):\n",
    "        self.items.append(item)\n",
    "\n",
    "    def pop(self):\n",
    "        if self.items:\n",
    "            return self.items.pop(0)\n",
    "\n",
    "    def peek(self):\n",
    "        if self.items:\n",
    "            return self.items[len(self.items) - 1]\n",
    "\n",
    "    def size(self):\n",
    "        return len(self.items)\n",
    "\n"
   ]
  },
  {
   "cell_type": "markdown",
   "metadata": {},
   "source": [
    "fila Prioridade"
   ]
  },
  {
   "cell_type": "code",
   "execution_count": 60,
   "metadata": {},
   "outputs": [],
   "source": [
    "class RowP:\n",
    "    def __init__(self):\n",
    "        self.items = []\n",
    "    \n",
    "    def isEmpty(self):\n",
    "        return self.items == []\n",
    "\n",
    "    def push(self, item):\n",
    "        self.items.append(item)\n",
    "        self.items.sort()\n",
    "\n",
    "    def pop(self):\n",
    "        if self.items:\n",
    "            return self.items.pop()\n",
    "\n",
    "    def peek(self):\n",
    "        if self.items:\n",
    "            return self.items[len(self.items) - 1]\n",
    "\n",
    "    def size(self):\n",
    "        return len(self.items)\n",
    "\n"
   ]
  },
  {
   "cell_type": "markdown",
   "metadata": {},
   "source": [
    "Pilha"
   ]
  },
  {
   "cell_type": "code",
   "execution_count": 62,
   "metadata": {},
   "outputs": [],
   "source": [
    "class Stack:\n",
    "    def __init__(self):\n",
    "        self.items = []\n",
    "    \n",
    "    def isEmpty(self):\n",
    "        return self.items == []\n",
    "\n",
    "    def push(self, item):\n",
    "        self.items.append(item)\n",
    "\n",
    "    def pop(self):\n",
    "        if self.items:\n",
    "            return self.items.pop()\n",
    "\n",
    "    def peek(self):\n",
    "        if self.items:\n",
    "            return self.items[len(self.items) - 1]\n",
    "\n",
    "    def size(self):\n",
    "        return len(self.items)\n",
    "\n"
   ]
  },
  {
   "cell_type": "markdown",
   "metadata": {},
   "source": [
    "Recebendo os valores"
   ]
  },
  {
   "cell_type": "code",
   "execution_count": 73,
   "metadata": {},
   "outputs": [],
   "source": [
    "fila_quant = Row()\n",
    "fila_instru = Row()\n",
    "\n",
    "for i in range(5):\n",
    "  quantidade = int(input())\n",
    "  fila_quant.push(quantidade)\n",
    "  for x in range(quantidade):\n",
    "    instrucoes = tuple(str(i) for i in input().split())\n",
    "    fila_instru.push(instrucoes)"
   ]
  },
  {
   "cell_type": "code",
   "execution_count": 69,
   "metadata": {},
   "outputs": [],
   "source": [
    "fila = Row()\n",
    "filaP = RowP()\n",
    "pilha = Stack()"
   ]
  },
  {
   "cell_type": "code",
   "execution_count": 74,
   "metadata": {},
   "outputs": [
    {
     "name": "stdout",
     "output_type": "stream",
     "text": [
      "<class 'int'>\n"
     ]
    }
   ],
   "source": [
    "qnt_fila = 0\n",
    "qnt_filap = 0\n",
    "qnt_pilha = 0\n",
    "\n",
    "i = fila_quant.pop()\n",
    "\n",
    "while fila_instru.size():\n",
    "  for x in range(i):\n",
    "    linha = fila_instru.pop()\n",
    "    teste = linha[0]\n",
    "    if teste == \"I\":\n",
    "      fila.push(linha[1])\n",
    "      filaP.push(linha[1])\n",
    "      pilha.push(linha[1])\n",
    "    else:\n",
    "      a = fila.pop()\n",
    "      b = filaP.pop()\n",
    "      c = pilha.pop()\n",
    "      if a == linha[1]:\n",
    "        qnt_fila += 1\n",
    "      elif b == linha[1]:\n",
    "        qnt_filap += 1\n",
    "      elif c == linha[1]:\n",
    "        qnt_pilha += 1"
   ]
  },
  {
   "cell_type": "code",
   "execution_count": null,
   "metadata": {},
   "outputs": [],
   "source": [
    "if qnt_pilha == i:\n",
    "  print(\"LIFO\")\n",
    "elif qnt_fila == i:\n",
    "  print(\"FIFO\")\n",
    "elif qnt_filap == i:\n",
    "  print(\"AIPO\")\n",
    "else:\n",
    "  print(\"out\")"
   ]
  },
  {
   "cell_type": "markdown",
   "metadata": {},
   "source": [
    "Lista recursiva - exercicio 4"
   ]
  },
  {
   "cell_type": "code",
   "execution_count": 28,
   "metadata": {},
   "outputs": [
    {
     "name": "stdout",
     "output_type": "stream",
     "text": [
      "1 + soma([5, 3])\n",
      "3 + soma([5])\n",
      "5\n",
      "---------------\n",
      "3 ** 2 == 9\n"
     ]
    }
   ],
   "source": [
    "def soma(n):\n",
    "  lista = []\n",
    "  a = quadrada(n,lista)\n",
    "  for i in range(len(lista)):\n",
    "    if len(lista) > 1:\n",
    "      print(f\"{lista.pop()} + soma({lista})\")\n",
    "    else:\n",
    "      print(f\"{lista.pop()}\")\n",
    "  print(f\"---------------\")\n",
    "  print(f\"{n} ** 2 == {a}\")\n",
    "  \n",
    "\n",
    "def quadrada(n, lista):\n",
    "  lista.append((2*n) - 1)\n",
    "  if n == 1:\n",
    "    return 1\n",
    "  else:\n",
    "    return ((2*n) - 1) + quadrada(n-1, lista)\n",
    "\n",
    "soma(3)\n"
   ]
  },
  {
   "cell_type": "markdown",
   "metadata": {},
   "source": [
    "lista recursiva - exercico 5 \n",
    "verificarChao: rotina para verificar se o artefato encontra-se no chão da coordenada atual de BB8. Retorna uma tupla com as coordenadas atuais de BB8, se o artefato for encontrado (None, caso contrário).\n",
    "verificarSeFoiVisitado: rotina para verificar se uma coordenada já foi visitada antes por BB8. Retorna True, se a coordenada já foi visitada (todas as coordenadas iniciam como False).\n",
    "registrarComoVisitado: rotina para indicar que uma determinada coordenada já foi visitada por BB8. Não possui valor de retorno.\n",
    "verificarNorte: rotina para verificar se a caminho para o norte. Retorna True, se há um caminho para o norte (False, caso contrário).\n",
    "verificarSul: rotina para verificar se a caminho para o sul. Retorna True, se há um caminho para o sul.\n",
    "verificarLeste: rotina para verificar se a caminho para o leste. Retorna True, se há um caminho para o leste.\n",
    "verificarOeste: rotina para verificar se a caminho para o oeste. Retorna True, se há um caminho para o oeste.\n",
    "moverNorte: rotina para deslocar BB8 uma posição para o norte. Retorna True, se o movimento tiver sido executado com sucesso.\n",
    "moverSul: rotina para deslocar BB8 uma posição para o sul. Retorna True, se o movimento tiver sido executado com sucesso.\n",
    "moverLeste: rotina para deslocar BB8 uma posição para o leste. Retorna True, se o movimento tiver sido executado com sucesso.\n",
    "moverOeste: rotina para deslocar BB8 uma posição para o oeste. Retorna True, se o movimento tiver sido executado com sucesso"
   ]
  },
  {
   "cell_type": "code",
   "execution_count": 29,
   "metadata": {},
   "outputs": [],
   "source": [
    "def buscarArtefato():\n",
    "    if bb8.verificarSeFoiVisitado():\n",
    "      return False\n",
    "    if bb8.verificarChao():\n",
    "      return bb8.verificarChao()\n",
    "    \n",
    "    bb8.registrarComoVisitado()\n",
    "\n",
    "    if bb8.verificarNorte():\n",
    "      bb8.moverNorte()\n",
    "      buscarArtefato()\n",
    "    if bb8.verificarSul():\n",
    "      bb8.moverSul()\n",
    "      buscarArtefato()\n",
    "    if bb8.verificarLeste():\n",
    "      bb8.moverLeste()\n",
    "      buscarArtefato()\n",
    "    if bb8.verificarOeste():\n",
    "      bb8.moverOeste()\n",
    "      buscarArtefato()\n",
    "    \n",
    "    return bb8.verificarChao()\n",
    "      \n"
   ]
  }
 ],
 "metadata": {
  "kernelspec": {
   "display_name": "Python 3.10.5 64-bit",
   "language": "python",
   "name": "python3"
  },
  "language_info": {
   "codemirror_mode": {
    "name": "ipython",
    "version": 3
   },
   "file_extension": ".py",
   "mimetype": "text/x-python",
   "name": "python",
   "nbconvert_exporter": "python",
   "pygments_lexer": "ipython3",
   "version": "3.10.5"
  },
  "orig_nbformat": 4,
  "vscode": {
   "interpreter": {
    "hash": "32b6365f16a9560d1f64eaf7f0cd3e0262cb733df60217a199a198ac26346325"
   }
  }
 },
 "nbformat": 4,
 "nbformat_minor": 2
}
